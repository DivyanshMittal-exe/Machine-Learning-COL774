{
 "cells": [
  {
   "cell_type": "code",
   "execution_count": 397,
   "metadata": {
    "ExecuteTime": {
     "end_time": "2023-10-16T16:06:33.065173808Z",
     "start_time": "2023-10-16T16:06:33.062466233Z"
    }
   },
   "outputs": [
    {
     "name": "stdout",
     "output_type": "stream",
     "text": [
      "1.3.1\n"
     ]
    }
   ],
   "source": [
    "import sklearn\n",
    "from sklearn.preprocessing import OrdinalEncoder, OneHotEncoder\n",
    "import pandas as pd\n",
    "import numpy as np\n",
    "import math\n",
    "import sys\n",
    "\n",
    "from sklearn.tree import DecisionTreeClassifier\n",
    "import matplotlib.pyplot as plt\n",
    "import multiprocessing\n",
    "\n",
    "plt.style.use('ggplot')\n"
   ]
  },
  {
   "cell_type": "code",
   "execution_count": 398,
   "metadata": {
    "ExecuteTime": {
     "end_time": "2023-10-16T16:06:33.135169119Z",
     "start_time": "2023-10-16T16:06:33.063157942Z"
    }
   },
   "outputs": [],
   "source": [
    "label_encoder = None "
   ]
  },
  {
   "cell_type": "code",
   "execution_count": 399,
   "metadata": {
    "ExecuteTime": {
     "end_time": "2023-10-16T16:06:33.194257191Z",
     "start_time": "2023-10-16T16:06:33.109762541Z"
    }
   },
   "outputs": [],
   "source": [
    "def get_np_array(file_name):\n",
    "    global label_encoder\n",
    "    data = pd.read_csv(file_name)\n",
    "    \n",
    "    need_label_encoding = ['team','host','opp','month', 'day_match']\n",
    "    if(label_encoder is None):\n",
    "        label_encoder = OrdinalEncoder()\n",
    "        label_encoder.fit(data[need_label_encoding])\n",
    "    data_1 = pd.DataFrame(label_encoder.transform(data[need_label_encoding]), columns = label_encoder.get_feature_names_out())\n",
    "    \n",
    "    #merge the two dataframes\n",
    "    dont_need_label_encoding =  [\"year\",\"toss\",\"bat_first\",\"format\" ,\"fow\",\"score\" ,\"rpo\" ,\"result\"]\n",
    "    data_2 = data[dont_need_label_encoding]\n",
    "    final_data = pd.concat([data_1, data_2], axis=1)\n",
    "    \n",
    "    X = final_data.iloc[:,:-1]\n",
    "    y = final_data.iloc[:,-1:]\n",
    "    return X.to_numpy(), y.to_numpy().flatten()\n"
   ]
  },
  {
   "cell_type": "code",
   "execution_count": 400,
   "metadata": {
    "ExecuteTime": {
     "end_time": "2023-10-16T16:06:33.255713247Z",
     "start_time": "2023-10-16T16:06:33.194049271Z"
    }
   },
   "outputs": [],
   "source": [
    "X_train,y_train = get_np_array('./Dataset/train.csv')\n",
    "X_test, y_test = get_np_array(\"./Dataset/test.csv\")\n",
    "X_val, Y_val = get_np_array('./Dataset/val.csv')\n",
    "\n",
    "types = ['cat','cat','cat',\"cat\",\"cat\",\"cont\",\"cat\",\"cat\",\"cat\" ,\"cont\",\"cont\" ,\"cont\" ]\n"
   ]
  },
  {
   "cell_type": "code",
   "execution_count": 422,
   "metadata": {
    "ExecuteTime": {
     "end_time": "2023-10-16T16:06:33.302575459Z",
     "start_time": "2023-10-16T16:06:33.257175756Z"
    }
   },
   "outputs": [],
   "source": [
    "class DTNode:\n",
    "\n",
    "    def __init__(self, depth, is_leaf = False, value = 0, column = None, category = None, types = None):\n",
    "\n",
    "        self.depth = depth\n",
    "        self.children = None\n",
    "        self.is_leaf = is_leaf\n",
    "        self.value = value\n",
    "        self.column = column\n",
    "        \n",
    "        self.category = category\n",
    "        self.types = types\n",
    "    \n",
    "    def __call__(self,X):\n",
    "        \n",
    "        if self.is_leaf:\n",
    "            return self.category\n",
    "\n",
    "        if self.types[self.column] == 'cat':\n",
    "            for child in self.children:\n",
    "                if child.value == X[self.column]:\n",
    "                    return child(X)\n",
    "            \n",
    "            return self.category\n",
    "        else:\n",
    "            if X[self.column] <= self.children[0].value:\n",
    "                return self.children[0](X)\n",
    "            else:\n",
    "                return self.children[1](X)\n",
    "\n",
    "        \n",
    "        \n",
    "\n",
    "\n",
    "    def get_children(self, X, y, types, max_depth):\n",
    "        '''\n",
    "        Args:\n",
    "            X: A single example np array [num_features]\n",
    "        Returns:\n",
    "            None\n",
    "        '''\n",
    "        \n",
    "        # print(\"depth\", self.depth, \"len\", len(X))\n",
    "        \n",
    "        if self.is_leaf:\n",
    "            majority = np.sum(y)/len(y)\n",
    "            if majority > 0.5:\n",
    "                self.category = 1\n",
    "            else:\n",
    "                self.category = 0\n",
    "                \n",
    "            return\n",
    "\n",
    "        \n",
    "        max_gain = -9999\n",
    "        max_child_id = None\n",
    "        \n",
    "        ids = np.arange(len(types))\n",
    "        ids = np.random.permutation(ids)\n",
    "        \n",
    "        for id in ids:\n",
    "            type = types[id]\n",
    "            \n",
    "            if(type == 'cat'):\n",
    "                categories = np.unique(X[:,id])\n",
    "                current_gain = 0\n",
    "                \n",
    "                for category in categories:\n",
    "                    category_indices = np.where(X[:,id] == category)\n",
    "                    category_y = y[category_indices]\n",
    "                    \n",
    "                    positive_count =g np.sum(category_y)\n",
    "                    negative_count = len(category_y) - positive_count\n",
    "                    total_count = len(category_y)\n",
    "                    \n",
    "                    if positive_count == 0 or negative_count == 0:\n",
    "                        this_category_gain = 0\n",
    "                    else:\n",
    "                        this_category_gain = (positive_count/total_count)*np.log(positive_count/total_count) + (negative_count/total_count)*np.log(negative_count/total_count)\n",
    "                    \n",
    "                        \n",
    "                    current_gain += (total_count/len(y))*this_category_gain\n",
    "\n",
    "                \n",
    "                if(current_gain > max_gain):\n",
    "                    max_gain = current_gain\n",
    "                    max_child_id = id\n",
    "                \n",
    "            else:\n",
    "                current_gain = 0\n",
    "\n",
    "                split_accross = np.median(X[:,id])\n",
    "                split_accross_indices_more = np.where(X[:,id] <= split_accross)\n",
    "                \n",
    "                split_accross_indices_more_y = y[split_accross_indices_more]\n",
    "                \n",
    "                positive_count = np.sum(split_accross_indices_more_y)\n",
    "                negative_count = len(split_accross_indices_more_y) - positive_count\n",
    "                total_count = len(split_accross_indices_more_y)\n",
    "                \n",
    "                if positive_count == 0 or negative_count == 0:\n",
    "                    this_category_gain = 0\n",
    "                else:\n",
    "                    this_category_gain = (positive_count/total_count)*np.log(positive_count/total_count) + (negative_count/total_count)*np.log(negative_count/total_count)\n",
    "                \n",
    "                \n",
    "                current_gain += (total_count/len(y))*this_category_gain\n",
    "                split_accross_indices_less = np.where(X[:,id] > split_accross)\n",
    "                split_accross_indices_less_y = y[split_accross_indices_less]\n",
    "                \n",
    "                positive_count = np.sum(split_accross_indices_less_y)\n",
    "                negative_count = len(split_accross_indices_less_y) - positive_count\n",
    "                total_count = len(split_accross_indices_less_y)\n",
    "                \n",
    "                if positive_count == 0 or negative_count == 0:\n",
    "                    this_category_gain = 0\n",
    "                else:\n",
    "                    this_category_gain = (positive_count/total_count)*np.log(positive_count/total_count) + (negative_count/total_count)*np.log(negative_count/total_count)\n",
    "                \n",
    "                current_gain += (total_count/len(y))*this_category_gain\n",
    "                \n",
    "                if(current_gain > max_gain):\n",
    "                    max_gain = current_gain\n",
    "                    max_child_id = id\n",
    "        \n",
    "        self.column = max_child_id\n",
    "        self.types = types\n",
    "        self.category = 1 if np.mean(y) > 0.5 else 0\n",
    "                \n",
    "        if types[max_child_id] == 'cat':\n",
    "            categories = np.unique(X[:,max_child_id])\n",
    "            children = []\n",
    "            for category in categories:\n",
    "                category_indices = np.where(X[:,max_child_id] == category)                \n",
    "                child = DTNode(self.depth+1,\n",
    "                                is_leaf = (self.depth >= max_depth),\n",
    "                                value = category,\n",
    "                                column=max_child_id,\n",
    "                                types=types\n",
    "                                )\n",
    "                \n",
    "                child.get_children(X[category_indices], y[category_indices], types, max_depth)\n",
    "\n",
    "                    \n",
    "                children.append(child)\n",
    "            self.children = children\n",
    "            \n",
    "\n",
    "            \n",
    "        else:\n",
    "            split_accross = np.median(X[:,max_child_id])\n",
    "            children = [] \n",
    "            child = DTNode(self.depth+1,\n",
    "                            is_leaf = (self.depth >= max_depth),\n",
    "                            value = split_accross,\n",
    "                            column=max_child_id,\n",
    "                            types=types\n",
    "                            )\n",
    "            indices = np.where(X[:,max_child_id] <= split_accross)\n",
    "            child.get_children(X[indices], y[indices], types, max_depth)\n",
    "\n",
    "            child2 = DTNode(self.depth+1,\n",
    "                            is_leaf = (self.depth >= max_depth),\n",
    "                            value = split_accross,\n",
    "                            column=max_child_id,\n",
    "                            types=types\n",
    "                            )\n",
    "            indices = np.where(X[:,max_child_id] >= split_accross)\n",
    "            child2.get_children(X[indices], y[indices], types, max_depth)\n",
    "\n",
    "            \n",
    "            children.append(child)\n",
    "            children.append(child2)\n",
    "            self.children = children\n",
    "            \n",
    "    def post_prune(self, X_val, y_val):\n",
    "        \n",
    "        if len(X_val) == 0:\n",
    "            return 0\n",
    "        # print(len(X_val))\n",
    "        # assert len(X_val) == len(y_val)\n",
    "        # assert len(X_val) > 0\n",
    "        current_accuracy = np.mean(y_val == self.category)\n",
    "\n",
    "        \n",
    "        if self.is_leaf:\n",
    "            return current_accuracy\n",
    "        \n",
    "        \n",
    "        post_prune_accuracy = 0\n",
    "    \n",
    "        if self.types[self.column] == 'cat':\n",
    "            \n",
    "            categories = np.unique(X_val[:,self.column])\n",
    "        \n",
    "            for category in categories:\n",
    "                filtered_indices = np.where(X_val[:,self.column] == category)\n",
    "                filtered_X_val = X_val[filtered_indices]\n",
    "                for child in self.children:\n",
    "                    if child.value == category:\n",
    "                        post_prune_accuracy += child.post_prune(filtered_X_val, y_val[filtered_indices]) * len(filtered_X_val)\n",
    "                        break\n",
    "                else:\n",
    "                    post_prune_accuracy += np.mean(y_val[filtered_indices] == self.category) * len(filtered_X_val)\n",
    "            \n",
    "            post_prune_accuracy /= len(X_val)\n",
    "        else:\n",
    "            \n",
    "            less_than_indices = np.where(X_val[:,self.column] <= self.children[0].value)\n",
    "            if len(less_than_indices) > 0:\n",
    "                less_than_X = X_val[less_than_indices]\n",
    "                post_prune_accuracy += self.children[0].post_prune(less_than_X, y_val[less_than_indices]) * len(less_than_X)\n",
    "            \n",
    "            more_than_indices = np.where(X_val[:,self.column] > self.children[0].value)\n",
    "            if len(more_than_indices) > 0:\n",
    "                more_than_X = X_val[more_than_indices]\n",
    "                post_prune_accuracy += self.children[1].post_prune(more_than_X, y_val[more_than_indices]) * len(more_than_X)\n",
    "            \n",
    "            post_prune_accuracy /= len(X_val)\n",
    "        \n",
    "    \n",
    "\n",
    "        if post_prune_accuracy < current_accuracy:\n",
    "            self.children = None\n",
    "            self.is_leaf = True\n",
    "        \n",
    "        \n",
    "        return max(post_prune_accuracy, current_accuracy)\n",
    "        \n"
   ]
  },
  {
   "cell_type": "code",
   "execution_count": 402,
   "metadata": {
    "ExecuteTime": {
     "end_time": "2023-10-16T16:06:33.351984451Z",
     "start_time": "2023-10-16T16:06:33.302432513Z"
    }
   },
   "outputs": [],
   "source": [
    "class DTTree:\n",
    "\n",
    "    def __init__(self):\n",
    "        #Tree root should be DTNode\n",
    "        self.root = DTNode(0)       \n",
    "\n",
    "    def fit(self, X, y, types, max_depth = 10):\n",
    "        '''\n",
    "        Makes decision tree\n",
    "        Args:\n",
    "            X: numpy array of data [num_samples, num_features]\n",
    "            y: numpy array of classes [num_samples, 1]\n",
    "            types: list of [num_features] with types as: cat, cont\n",
    "                eg: if num_features = 4, and last 2 features are continious then\n",
    "                    types = ['cat','cat','cont','cont']\n",
    "            max_depth: maximum                 this_category_gain = 0\n",
    "                if positive_count != 0:\n",
    "                    this_category_gain += (positive_count/total_count)*np.log(positive_count/total_count) \n",
    "                elif negative_count != 0:\n",
    "                    this_category_gain += (negative_count/total_count)*np.log(negative_count/total_count)\n",
    "                depth of tree\n",
    "        Returns:\n",
    "            None\n",
    "        '''\n",
    "        self.root.get_children(X, y, types, max_depth)\n",
    "\n",
    "    def __call__(self, X):\n",
    "        '''\n",
    "        Predicted classes for X\n",
    "        Args:\n",
    "            X: numpy array of data [num_samples, num_features]\n",
    "        Returns:\n",
    "            y:  predicted classes\n",
    "        '''\n",
    "        return self.root(X)\n",
    "    \n",
    "    def post_prune(self, X_val, y_val):\n",
    "        self.root.post_prune(X_val, y_val)\n",
    "        \n",
    "        \n",
    "        "
   ]
  },
  {
   "cell_type": "code",
   "execution_count": 403,
   "metadata": {
    "ExecuteTime": {
     "start_time": "2023-10-16T16:11:39.953604449Z"
    },
    "is_executing": true
   },
   "outputs": [],
   "source": [
    "max_depth = 5\n",
    "tree = DTTree()\n",
    "tree.fit(X_train,y_train,types, max_depth = max_depth)"
   ]
  },
  {
   "cell_type": "code",
   "execution_count": 404,
   "metadata": {
    "ExecuteTime": {
     "end_time": "2023-10-16T16:06:34.017951400Z",
     "start_time": "2023-10-16T16:06:34.016525280Z"
    }
   },
   "outputs": [
    {
     "name": "stdout",
     "output_type": "stream",
     "text": [
      "Accuracy:  0.5749741468459152\n"
     ]
    }
   ],
   "source": [
    "predictions = []\n",
    "for i,row in enumerate(X_test):\n",
    "    predictions.append(tree(row) == y_test[i])\n",
    "# print(predictions)\n",
    "print(\"Accuracy: \", np.sum(predictions)/len(predictions))"
   ]
  },
  {
   "cell_type": "code",
   "execution_count": 405,
   "metadata": {},
   "outputs": [
    {
     "name": "stdout",
     "output_type": "stream",
     "text": [
      "Validation Accuracy:  0.5305067218200621\n"
     ]
    }
   ],
   "source": [
    "sklearn_tree = DecisionTreeClassifier(criterion='entropy',max_depth=max_depth)\n",
    "sklearn_tree.fit(X_train,y_train)\n",
    "\n",
    "val_acc = sklearn_tree.score(X_test,y_test)\n",
    "\n",
    "print(\"Validation Accuracy: \", val_acc)"
   ]
  },
  {
   "cell_type": "code",
   "execution_count": 406,
   "metadata": {},
   "outputs": [
    {
     "name": "stdout",
     "output_type": "stream",
     "text": [
      "Only win prediction accuracy is 0.4963805584281282\n",
      "Only loss prediction accuracy is 0.5036194415718718\n"
     ]
    }
   ],
   "source": [
    "print(f\"Only win prediction accuracy is {np.sum(y_test)/len(y_test)}\")\n",
    "print(f\"Only loss prediction accuracy is {1 - np.sum(y_test)/len(y_test)}\")"
   ]
  },
  {
   "cell_type": "code",
   "execution_count": 407,
   "metadata": {},
   "outputs": [],
   "source": [
    "def calculate_accuracies_for_given_depth(max_depth, X_train, y_train, X_test, y_test, types):\n",
    "    \n",
    "    tree = DTTree()\n",
    "    tree.fit(X_train, y_train, types, max_depth=max_depth)\n",
    "    \n",
    "    train_predictions = [tree(row) for row in X_train]\n",
    "    train_accuracy = np.sum(train_predictions == y_train) / len(y_train)\n",
    "    \n",
    "    test_predictions = [tree(row) for row in X_test]\n",
    "    test_accuracy = np.sum(test_predictions == y_test) / len(y_test)\n",
    "    \n",
    "    print(f'Ran for max_depth = {max_depth}, got {train_accuracy} train accuracy and {test_accuracy} test accuracy')\n",
    "    \n",
    "    return train_accuracy, test_accuracy"
   ]
  },
  {
   "cell_type": "code",
   "execution_count": 408,
   "metadata": {},
   "outputs": [
    {
     "name": "stdout",
     "output_type": "stream",
     "text": [
      "Ran for max_depth = 5, got 0.9239810910949278 train accuracy and 0.5739400206825233 test accuracy\n",
      "Ran for max_depth = 10, got 0.9897789702312508 train accuracy and 0.5915201654601862 test accuracy\n"
     ]
    }
   ],
   "source": [
    "# max_depths = [5, 10]\n",
    "max_depths = [i + 1 for i in range(25)]\n",
    "\n",
    "num_cores = multiprocessing.cpu_count()\n",
    "\n",
    "pool = multiprocessing.Pool(processes=num_cores)\n",
    "results = pool.starmap(calculate_accuracies_for_given_depth, [(max_depth, X_train, y_train, X_test, y_test, types) for max_depth in max_depths])\n",
    "pool.close()\n",
    "pool.join()\n",
    "\n",
    "train_accuracies, test_accuracies = zip(*results)"
   ]
  },
  {
   "cell_type": "code",
   "execution_count": 409,
   "metadata": {},
   "outputs": [
    {
     "data": {
      "image/png": "[encoded data removed]",
      "text/plain": [
       "<Figure size 640x480 with 1 Axes>"
      ]
     },
     "metadata": {},
     "output_type": "display_data"
    }
   ],
   "source": [
    "plt.plot(max_depths, train_accuracies, label='Train Accuracy')\n",
    "plt.plot(max_depths, test_accuracies, label='Test Accuracy')\n",
    "plt.xlabel('Maximum Depth')\n",
    "plt.ylabel('Accuracy')\n",
    "plt.legend()\n",
    "plt.title('Train and Test Accuracies vs Maximum Depth')\n",
    "plt.show()"
   ]
  },
  {
   "cell_type": "code",
   "execution_count": 410,
   "metadata": {},
   "outputs": [
    {
     "name": "stdout",
     "output_type": "stream",
     "text": [
      "[array(['afganistan', 'australia', 'bangladesh', 'bermuda', 'canada',\n",
      "       'england', 'india', 'ireland', 'kenya', 'netherlands',\n",
      "       'new_zealand', 'pakistan', 'scotland', 'south_africa', 'sri_lanka',\n",
      "       'uae', 'usa', 'west_indis', 'zimbambave'], dtype=object), array(['australia', 'bangladesh', 'bermuda', 'canada', 'england', 'india',\n",
      "       'ireland', 'kenya', 'malaysia', 'netherlands', 'new_zealand',\n",
      "       'pakistan', 'scotland', 'south_africa', 'sri_lanka', 'uae', 'usa',\n",
      "       'west_indis', 'zimbambave'], dtype=object), array(['afganistan', 'australia', 'bangladesh', 'bermuda', 'canada',\n",
      "       'england', 'india', 'ireland', 'kenya', 'netherlands',\n",
      "       'new_zealand', 'pakistan', 'scotland', 'south_africa', 'sri_lanka',\n",
      "       'uae', 'usa', 'west_indis', 'zimbambave'], dtype=object), array(['apr', 'aug', 'dec', 'feb', 'jan', 'jul', 'jun', 'mar', 'may',\n",
      "       'nov', 'oct', 'sep'], dtype=object), array([0, 1, 2])]\n"
     ]
    }
   ],
   "source": [
    "\n",
    "one_hot_encoder = OneHotEncoder()\n",
    "train_data_pd = pd.read_csv('./Dataset/train.csv')\n",
    "need_label_encoding = ['team','host','opp','month', 'day_match']\n",
    "one_hot_encoder.fit(train_data_pd[need_label_encoding])\n",
    "\n",
    "print(one_hot_encoder.categories_)\n",
    "\n",
    "def get_np_array_as_one_hot_encode(file_name):\n",
    "    data = pd.read_csv(file_name)\n",
    "    \n",
    "    y_out = data['result']\n",
    "    y_out = y_out.values\n",
    "\n",
    "    \n",
    "    data_left = data[need_label_encoding]\n",
    "    data_left = data_left.values\n",
    "    data_1 = one_hot_encoder.transform(data_left)\n",
    "\n",
    "    \n",
    "    dont_need_label_encoding =  [\"year\",\"toss\",\"bat_first\",\"format\" ,\"fow\",\"score\" ,\"rpo\"]\n",
    "    data_2 = data[dont_need_label_encoding]\n",
    "    data_2 = data_2.values\n",
    "    \n",
    "    X = np.hstack((data_1.toarray(), data_2))\n",
    "    \n",
    "    return X, y_out"
   ]
  },
  {
   "cell_type": "code",
   "execution_count": 411,
   "metadata": {},
   "outputs": [
    {
     "name": "stderr",
     "output_type": "stream",
     "text": [
      "/home/higgsboson/anaconda3/envs/733/lib/python3.11/site-packages/sklearn/base.py:465: UserWarning: X does not have valid feature names, but OneHotEncoder was fitted with feature names\n",
      "  warnings.warn(\n",
      "/home/higgsboson/anaconda3/envs/733/lib/python3.11/site-packages/sklearn/base.py:465: UserWarning: X does not have valid feature names, but OneHotEncoder was fitted with feature names\n",
      "  warnings.warn(\n",
      "/home/higgsboson/anaconda3/envs/733/lib/python3.11/site-packages/sklearn/base.py:465: UserWarning: X does not have valid feature names, but OneHotEncoder was fitted with feature names\n",
      "  warnings.warn(\n"
     ]
    }
   ],
   "source": [
    "X_train,y_train = get_np_array_as_one_hot_encode('./Dataset/train.csv')\n",
    "X_test, y_test = get_np_array_as_one_hot_encode(\"./Dataset/test.csv\")\n",
    "X_val, y_val = get_np_array_as_one_hot_encode('./Dataset/val.csv')\n",
    "\n",
    "\n",
    "types = ['cat' for _ in range(72)]\n",
    "\n",
    "types = types + [\"cont\",\"cat\",\"cat\",\"cat\" ,\"cont\",\"cont\" ,\"cont\" ]"
   ]
  },
  {
   "cell_type": "code",
   "execution_count": 412,
   "metadata": {},
   "outputs": [],
   "source": [
    "def calculate_accuracies_for_given_depth_one_hot(max_depth, X_train, y_train, X_test, y_test, types):\n",
    "    \n",
    "    tree = DTTree()\n",
    "    tree.fit(X_train, y_train, types, max_depth=max_depth)\n",
    "    \n",
    "    train_predictions = [tree(row) for row in X_train]\n",
    "    train_accuracy = np.sum(train_predictions == y_train) / len(y_train)\n",
    "    \n",
    "    test_predictions = [tree(row) for row in X_test]\n",
    "    test_accuracy = np.sum(test_predictions == y_test) / len(y_test)\n",
    "    \n",
    "    print(f'Ran for max_depth = {max_depth}, got {train_accuracy} train accuracy and {test_accuracy} test accuracy')\n",
    "    \n",
    "    return train_accuracy, test_accuracy"
   ]
  },
  {
   "cell_type": "code",
   "execution_count": 413,
   "metadata": {},
   "outputs": [
    {
     "name": "stdout",
     "output_type": "stream",
     "text": [
      "Ran for max_depth = 5, got 0.5871981602146417 train accuracy and 0.5532574974146846 test accuracy\n",
      "Ran for max_depth = 10, got 0.634598185767216 train accuracy and 0.5687693898655636 test accuracy\n"
     ]
    }
   ],
   "source": [
    "max_depths = [5*(i + 1) for i in range(12)]\n",
    "\n",
    "num_cores = multiprocessing.cpu_count()\n",
    "\n",
    "pool = multiprocessing.Pool(processes=num_cores)\n",
    "results = pool.starmap(calculate_accuracies_for_given_depth_one_hot, [(max_depth, X_train, y_train, X_test, y_test, types) for max_depth in max_depths])\n",
    "pool.close()\n",
    "pool.join()\n",
    "\n",
    "train_accuracies_one_hot, test_accuracies_one_hot = zip(*results)"
   ]
  },
  {
   "cell_type": "code",
   "execution_count": 414,
   "metadata": {},
   "outputs": [
    {
     "data": {
      "image/png": "[encoded data removed]",
      "text/plain": [
       "<Figure size 640x480 with 1 Axes>"
      ]
     },
     "metadata": {},
     "output_type": "display_data"
    }
   ],
   "source": [
    "plt.plot(max_depths, train_accuracies_one_hot, label='Train Accuracy')\n",
    "plt.plot(max_depths, test_accuracies_one_hot, label='Test Accuracy')\n",
    "plt.xlabel('Maximum Depth')\n",
    "plt.ylabel('Accuracy')\n",
    "plt.legend()\n",
    "plt.title('Train and Test Accuracies vs Maximum Depth with one hot')\n",
    "plt.show()"
   ]
  },
  {
   "cell_type": "code",
   "execution_count": 415,
   "metadata": {},
   "outputs": [],
   "source": [
    "def calculate_accuracies_for_given_depth_sklearn(max_depth, X_train, y_train, X_test, y_test, types):\n",
    "\n",
    "    sklearn_tree = DecisionTreeClassifier(criterion='entropy',max_depth=max_depth)\n",
    "    sklearn_tree.fit(X_train,y_train)\n",
    "\n",
    "    train_accuracy = sklearn_tree.score(X_train,y_train)\n",
    "    test_accuracy = sklearn_tree.score(X_test,y_test)\n",
    "\n",
    "    print(f'Ran for max_depth = {max_depth}, got {train_accuracy} train accuracy and {test_accuracy} test accuracy')\n",
    "    \n",
    "    return train_accuracy, test_accuracy"
   ]
  },
  {
   "cell_type": "code",
   "execution_count": 416,
   "metadata": {},
   "outputs": [
    {
     "name": "stdout",
     "output_type": "stream",
     "text": [
      "Ran for max_depth = 1, got 0.5344320940334739 train accuracy and 0.5180972078593589 test accuracy\n",
      "Ran for max_depth = 2, got 0.536604062859333 train accuracy and 0.5211995863495347 test accuracy\n",
      "Ran for max_depth = 3, got 0.5608790085601124 train accuracy and 0.5170630816959669 test accuracy\n",
      "Ran for max_depth = 4, got 0.5612622971764405 train accuracy and 0.5170630816959669 test accuracy\n",
      "Ran for max_depth = 5, got 0.5694391209914399 train accuracy and 0.5542916235780765 test accuracy\n",
      "Ran for max_depth = 6, got 0.5870703973425323 train accuracy and 0.5573940020682523 test accuracy\n",
      "Ran for max_depth = 7, got 0.6016353647629998 train accuracy and 0.6028955532574974 test accuracy\n",
      "Ran for max_depth = 8, got 0.6137728376133895 train accuracy and 0.5884177869700103 test accuracy\n",
      "Ran for max_depth = 9, got 0.6238661045100294 train accuracy and 0.5997931747673216 test accuracy\n",
      "Ran for max_depth = 10, got 0.6407308036284656 train accuracy and 0.6028955532574974 test accuracy\n",
      "Ran for max_depth = 11, got 0.6536348537115114 train accuracy and 0.6070320579110652 test accuracy\n",
      "Ran for max_depth = 12, got 0.6652612750734637 train accuracy and 0.6070320579110652 test accuracy\n",
      "Ran for max_depth = 13, got 0.6799540053660407 train accuracy and 0.5925542916235781 test accuracy\n",
      "Ran for max_depth = 14, got 0.698990673310336 train accuracy and 0.6215098241985523 test accuracy\n",
      "Ran for max_depth = 15, got 0.7133001149865849 train accuracy and 0.609100310237849 test accuracy\n",
      "Ran for max_depth = 16, got 0.7309313913376773 train accuracy and 0.6194415718717684 test accuracy\n",
      "Ran for max_depth = 17, got 0.7477960904561135 train accuracy and 0.609100310237849 test accuracy\n",
      "Ran for max_depth = 19, got 0.7751373450875175 train accuracy and 0.6142709410548087 test accuracyRan for max_depth = 20, got 0.7885524466590009 train accuracy and 0.6173733195449845 test accuracy\n",
      "Ran for max_depth = 18, got 0.766193944039862 train accuracy and 0.6246122026887281 test accuracy\n",
      "\n",
      "Ran for max_depth = 21, got 0.8032451769515778 train accuracy and 0.6153050672182007 test accuracy\n",
      "Ran for max_depth = 22, got 0.8147438354414207 train accuracy and 0.6111685625646329 test accuracy\n",
      "Ran for max_depth = 23, got 0.8254759166986074 train accuracy and 0.6225439503619442 test accuracy\n",
      "Ran for max_depth = 24, got 0.8348026063625911 train accuracy and 0.640124095139607 test accuracyRan for max_depth = 25, got 0.8543503257953239 train accuracy and 0.6452947259565667 test accuracy\n",
      "\n"
     ]
    }
   ],
   "source": [
    "# max_depths = [5, 10, 15, 20, 25]\n",
    "max_depths = [i + 1 for i in range(40)]\n",
    "\n",
    "num_cores = multiprocessing.cpu_count()\n",
    "\n",
    "pool = multiprocessing.Pool(processes=num_cores)\n",
    "results = pool.starmap(calculate_accuracies_for_given_depth_sklearn, [(max_depth, X_train, y_train, X_test, y_test, types) for max_depth in max_depths])\n",
    "pool.close()\n",
    "pool.join()\n",
    "\n",
    "train_accuracies_sklearn, test_accuracies_sklearn = zip(*results)"
   ]
  },
  {
   "cell_type": "code",
   "execution_count": 417,
   "metadata": {},
   "outputs": [
    {
     "data": {
      "image/png": "[encoded data removed]",
      "text/plain": [
       "<Figure size 640x480 with 1 Axes>"
      ]
     },
     "metadata": {},
     "output_type": "display_data"
    }
   ],
   "source": [
    "plt.plot(max_depths, train_accuracies_sklearn, label='Train Accuracy')\n",
    "plt.plot(max_depths, test_accuracies_sklearn, label='Test Accuracy')\n",
    "plt.xlabel('Maximum Depth')\n",
    "plt.ylabel('Accuracy')\n",
    "plt.legend()\n",
    "plt.title('Train and Test Accuracies vs Maximum Depth for sklearn')\n",
    "plt.show()"
   ]
  },
  {
   "cell_type": "code",
   "execution_count": 430,
   "metadata": {},
   "outputs": [
    {
     "name": "stdout",
     "output_type": "stream",
     "text": [
      "Ran for max_depth = 5, got 0.6228440015331544 train accuracy and 0.5594622543950362 test accuracy\n"
     ]
    }
   ],
   "source": [
    "# tree = DTTree()\n",
    "# tree.fit(X_train, y_train, types, max_depth=10)\n",
    "\n",
    "# # tree.post_prune(X_val, Y_val)\n",
    "\n",
    "# train_predictions = [tree(row) for row in X_train]\n",
    "# train_accuracy = np.sum(train_predictions == y_train) / len(y_train)\n",
    "\n",
    "# test_predictions = [tree(row) for row in X_test]\n",
    "# test_accuracy = np.sum(test_predictions == y_test) / len(y_test)\n",
    "\n",
    "# print(f'Ran for max_depth = {max_depth}, got {train_accuracy} train accuracy and {test_accuracy} test accuracy')\n"
   ]
  },
  {
   "cell_type": "code",
   "execution_count": 424,
   "metadata": {},
   "outputs": [],
   "source": [
    "def calculate_accuracies_for_given_depth_with_pruning(max_depth, X_train, y_train, X_val, Y_val, X_test, y_test, types):\n",
    "    \n",
    "    tree = DTTree()\n",
    "    tree.fit(X_train, y_train, types, max_depth=max_depth)\n",
    "    \n",
    "    tree.post_prune(X_val, Y_val)\n",
    "    \n",
    "    train_predictions = [tree(row) for row in X_train]\n",
    "    train_accuracy = np.sum(train_predictions == y_train) / len(y_train)\n",
    "    \n",
    "    test_predictions = [tree(row) for row in X_test]\n",
    "    test_accuracy = np.sum(test_predictions == y_test) / len(y_test)\n",
    "    \n",
    "    print(f'Ran for max_depth = {max_depth}, got {train_accuracy} train accuracy and {test_accuracy} test accuracy')\n",
    "    \n",
    "    return train_accuracy, test_accuracy"
   ]
  },
  {
   "cell_type": "code",
   "execution_count": 432,
   "metadata": {},
   "outputs": [
    {
     "name": "stdout",
     "output_type": "stream",
     "text": [
      "Ran for max_depth = 5, got 0.5857927686214386 train accuracy and 0.5532574974146846 test accuracy\n",
      "Ran for max_depth = 10, got 0.6227162386610451 train accuracy and 0.5573940020682523 test accuracy\n",
      "Ran for max_depth = 15, got 0.6908138494953366 train accuracy and 0.578076525336091 test accuracy\n"
     ]
    },
    {
     "ename": "KeyboardInterrupt",
     "evalue": "",
     "output_type": "error",
     "traceback": [
      "\u001b[0;31m---------------------------------------------------------------------------\u001b[0m",
      "\u001b[0;31mKeyboardInterrupt\u001b[0m                         Traceback (most recent call last)",
      "Cell \u001b[0;32mIn[432], line 6\u001b[0m\n\u001b[1;32m      3\u001b[0m num_cores \u001b[39m=\u001b[39m multiprocessing\u001b[39m.\u001b[39mcpu_count()\n\u001b[1;32m      5\u001b[0m pool \u001b[39m=\u001b[39m multiprocessing\u001b[39m.\u001b[39mPool(processes\u001b[39m=\u001b[39mnum_cores)\n\u001b[0;32m----> 6\u001b[0m results \u001b[39m=\u001b[39m pool\u001b[39m.\u001b[39;49mstarmap(calculate_accuracies_for_given_depth_with_pruning, [(max_depth, X_train, y_train, X_val, y_val, X_test, y_test, types) \u001b[39mfor\u001b[39;49;00m max_depth \u001b[39min\u001b[39;49;00m max_depths])\n\u001b[1;32m      7\u001b[0m pool\u001b[39m.\u001b[39mclose()\n\u001b[1;32m      8\u001b[0m pool\u001b[39m.\u001b[39mjoin()\n",
      "File \u001b[0;32m~/anaconda3/envs/733/lib/python3.11/multiprocessing/pool.py:375\u001b[0m, in \u001b[0;36mPool.starmap\u001b[0;34m(self, func, iterable, chunksize)\u001b[0m\n\u001b[1;32m    369\u001b[0m \u001b[39mdef\u001b[39;00m \u001b[39mstarmap\u001b[39m(\u001b[39mself\u001b[39m, func, iterable, chunksize\u001b[39m=\u001b[39m\u001b[39mNone\u001b[39;00m):\n\u001b[1;32m    370\u001b[0m \u001b[39m    \u001b[39m\u001b[39m'''\u001b[39;00m\n\u001b[1;32m    371\u001b[0m \u001b[39m    Like `map()` method but the elements of the `iterable` are expected to\u001b[39;00m\n\u001b[1;32m    372\u001b[0m \u001b[39m    be iterables as well and will be unpacked as arguments. Hence\u001b[39;00m\n\u001b[1;32m    373\u001b[0m \u001b[39m    `func` and (a, b) becomes func(a, b).\u001b[39;00m\n\u001b[1;32m    374\u001b[0m \u001b[39m    '''\u001b[39;00m\n\u001b[0;32m--> 375\u001b[0m     \u001b[39mreturn\u001b[39;00m \u001b[39mself\u001b[39;49m\u001b[39m.\u001b[39;49m_map_async(func, iterable, starmapstar, chunksize)\u001b[39m.\u001b[39;49mget()\n",
      "File \u001b[0;32m~/anaconda3/envs/733/lib/python3.11/multiprocessing/pool.py:768\u001b[0m, in \u001b[0;36mApplyResult.get\u001b[0;34m(self, timeout)\u001b[0m\n\u001b[1;32m    767\u001b[0m \u001b[39mdef\u001b[39;00m \u001b[39mget\u001b[39m(\u001b[39mself\u001b[39m, timeout\u001b[39m=\u001b[39m\u001b[39mNone\u001b[39;00m):\n\u001b[0;32m--> 768\u001b[0m     \u001b[39mself\u001b[39;49m\u001b[39m.\u001b[39;49mwait(timeout)\n\u001b[1;32m    769\u001b[0m     \u001b[39mif\u001b[39;00m \u001b[39mnot\u001b[39;00m \u001b[39mself\u001b[39m\u001b[39m.\u001b[39mready():\n\u001b[1;32m    770\u001b[0m         \u001b[39mraise\u001b[39;00m \u001b[39mTimeoutError\u001b[39;00m\n",
      "File \u001b[0;32m~/anaconda3/envs/733/lib/python3.11/multiprocessing/pool.py:765\u001b[0m, in \u001b[0;36mApplyResult.wait\u001b[0;34m(self, timeout)\u001b[0m\n\u001b[1;32m    764\u001b[0m \u001b[39mdef\u001b[39;00m \u001b[39mwait\u001b[39m(\u001b[39mself\u001b[39m, timeout\u001b[39m=\u001b[39m\u001b[39mNone\u001b[39;00m):\n\u001b[0;32m--> 765\u001b[0m     \u001b[39mself\u001b[39;49m\u001b[39m.\u001b[39;49m_event\u001b[39m.\u001b[39;49mwait(timeout)\n",
      "File \u001b[0;32m~/anaconda3/envs/733/lib/python3.11/threading.py:622\u001b[0m, in \u001b[0;36mEvent.wait\u001b[0;34m(self, timeout)\u001b[0m\n\u001b[1;32m    620\u001b[0m signaled \u001b[39m=\u001b[39m \u001b[39mself\u001b[39m\u001b[39m.\u001b[39m_flag\n\u001b[1;32m    621\u001b[0m \u001b[39mif\u001b[39;00m \u001b[39mnot\u001b[39;00m signaled:\n\u001b[0;32m--> 622\u001b[0m     signaled \u001b[39m=\u001b[39m \u001b[39mself\u001b[39;49m\u001b[39m.\u001b[39;49m_cond\u001b[39m.\u001b[39;49mwait(timeout)\n\u001b[1;32m    623\u001b[0m \u001b[39mreturn\u001b[39;00m signaled\n",
      "File \u001b[0;32m~/anaconda3/envs/733/lib/python3.11/threading.py:320\u001b[0m, in \u001b[0;36mCondition.wait\u001b[0;34m(self, timeout)\u001b[0m\n\u001b[1;32m    318\u001b[0m \u001b[39mtry\u001b[39;00m:    \u001b[39m# restore state no matter what (e.g., KeyboardInterrupt)\u001b[39;00m\n\u001b[1;32m    319\u001b[0m     \u001b[39mif\u001b[39;00m timeout \u001b[39mis\u001b[39;00m \u001b[39mNone\u001b[39;00m:\n\u001b[0;32m--> 320\u001b[0m         waiter\u001b[39m.\u001b[39;49macquire()\n\u001b[1;32m    321\u001b[0m         gotit \u001b[39m=\u001b[39m \u001b[39mTrue\u001b[39;00m\n\u001b[1;32m    322\u001b[0m     \u001b[39melse\u001b[39;00m:\n",
      "\u001b[0;31mKeyboardInterrupt\u001b[0m: "
     ]
    },
    {
     "name": "stdout",
     "output_type": "stream",
     "text": [
      "Ran for max_depth = 20, got 0.7453685958860355 train accuracy and 0.6028955532574974 test accuracy\n",
      "Ran for max_depth = 25, got 0.7848473233678294 train accuracy and 0.6235780765253361 test accuracy\n"
     ]
    }
   ],
   "source": [
    "max_depths = [5*(i + 1) for i in range(12)]\n",
    "\n",
    "num_cores = multiprocessing.cpu_count()\n",
    "\n",
    "pool = multiprocessing.Pool(processes=num_cores)\n",
    "results = pool.starmap(calculate_accuracies_for_given_depth_with_pruning, [(max_depth, X_train, y_train, X_val, y_val, X_test, y_test, types) for max_depth in max_depths])\n",
    "pool.close()\n",
    "pool.join()\n",
    "\n",
    "train_accuracies_prune, test_accuracies_prune = zip(*results)"
   ]
  },
  {
   "cell_type": "code",
   "execution_count": null,
   "metadata": {},
   "outputs": [],
   "source": [
    "plt.plot(max_depths, train_accuracies_prune, label='Train Accuracy')\n",
    "plt.plot(max_depths, test_accuracies_prune, label='Test Accuracy')\n",
    "plt.xlabel('Maximum Depth')\n",
    "plt.ylabel('Accuracy')\n",
    "plt.legend()\n",
    "plt.title('Train and Test Accuracies vs Maximum Depth for pruning')\n",
    "plt.show()"
   ]
  },
  {
   "cell_type": "code",
   "execution_count": null,
   "metadata": {},
   "outputs": [],
   "source": [
    "def calculate_accuracies_for_given_ccp_sklearn(ccp_alpha, X_train, y_train, X_val, y_val, X_test, y_test, types):\n",
    "    \n",
    "\n",
    "    sklearn_tree = DecisionTreeClassifier(criterion='entropy',ccp_alpha=ccp_alpha)\n",
    "    sklearn_tree.fit(X_train,y_train)\n",
    "\n",
    "    train_accuracy = sklearn_tree.score(X_train,y_train)\n",
    "    val_accuracy = sklearn_tree.score(X_val,y_val)\n",
    "    test_accuracy = sklearn_tree.score(X_test,y_test)\n",
    "\n",
    "    print(f'Ran for max_depth = {max_depth}, got {train_accuracy} train accuracy and {test_accuracy} test accuracy')\n",
    "    \n",
    "    return train_accuracy, val_accuracy, test_accuracy\n",
    "\n",
    "ccp_alphas = [0.001, 0.01, 0.1, 0.2]\n",
    "\n",
    "num_cores = multiprocessing.cpu_count()\n",
    "\n",
    "pool = multiprocessing.Pool(processes=num_cores)\n",
    "results = pool.starmap(calculate_accuracies_for_given_ccp_sklearn, [(ccp_alpha, X_train, y_train, X_val, y_val, X_test, y_test, types) for ccp_alpha in ccp_alphas])\n",
    "pool.close()\n",
    "pool.join()\n",
    "\n",
    "train_accuracies_ccp_alpha, val_accuracy_ccp_alpha, test_accuracy_ccp_alpha = zip(*results)\n",
    "\n",
    "plt.plot(ccp_alphas, train_accuracies_ccp_alpha, label='Train Accuracy')\n",
    "plt.plot(ccp_alphas, val_accuracy_ccp_alpha, label='Validation Accuracy')\n",
    "plt.plot(ccp_alphas, test_accuracy_ccp_alpha, label='Test Accuracy')\n",
    "plt.xlabel('CCP Alpha')\n",
    "plt.ylabel('Accuracy')\n",
    "plt.legend()\n",
    "plt.title('Train, Test and Validation Accuracies vs CCP Alphas')\n",
    "plt.show()"
   ]
  },
  {
   "cell_type": "code",
   "execution_count": null,
   "metadata": {},
   "outputs": [],
   "source": [
    "def calculate_accuracies_grid_search(ccp_alpha, max_depth , X_train, y_train, X_val, y_val, X_test, y_test, types):\n",
    "    \n",
    "\n",
    "    sklearn_tree = DecisionTreeClassifier(criterion='entropy',ccp_alpha=ccp_alpha)\n",
    "    sklearn_tree.fit(X_train,y_train)\n",
    "\n",
    "    train_accuracy = sklearn_tree.score(X_train,y_train)\n",
    "    val_accuracy = sklearn_tree.score(X_val,y_val)\n",
    "    test_accuracy = sklearn_tree.score(X_test,y_test)\n",
    "\n",
    "    print(f'Ran for max_depth = {max_depth}, got {train_accuracy} train accuracy and {test_accuracy} test accuracy')\n",
    "    \n",
    "    return train_accuracy, val_accuracy, test_accuracy\n",
    "\n",
    "ccp_alphas = [0.001, 0.01, 0.1, 0.2]\n",
    "max_depths = [5*(i + 1) for i in range(12)]\n",
    "\n",
    "data_points = [(ccp_alpha, max_depth) for ccp_alpha in ccp_alphas for max_depth in max_depths]\n",
    "\n",
    "\n",
    "\n",
    "num_cores = multiprocessing.cpu_count()\n",
    "\n",
    "pool = multiprocessing.Pool(processes=num_cores)\n",
    "results = pool.starmap(calculate_accuracies_grid_search, [(ccp_alpha, max_depth, X_train, y_train, X_val, y_val, X_test, y_test, types) for (ccp_alpha, max_depth) in data_points])\n",
    "pool.close()\n",
    "pool.join()\n",
    "\n",
    "train_accuracies_grid, val_accuracy_grid, test_accuracy_grid = zip(*results)\n",
    "\n",
    "sorted_xy_list = sorted(data_points, key=lambda xy: (xy[0], xy[1]))\n",
    "\n",
    "\n",
    "x, y = zip(*sorted_xy_list)\n",
    "x = np.array(x)\n",
    "y = np.array(y)\n",
    "\n",
    "z = np.array(train_accuracies_grid)\n",
    "\n",
    "\n",
    "z_grid = z.reshape(len(np.unique(y)), len(np.unique(x)))\n",
    "\n",
    "# Create a heatmap\n",
    "plt.figure(figsize=(10, 8))\n",
    "plt.imshow(z_grid, cmap='viridis', extent=[min(x), max(x), min(y), max(y)],\n",
    "           aspect='auto', origin='lower')\n",
    "plt.colorbar(label='Accuracies')\n",
    "plt.xlabel('CCP Alpha')\n",
    "plt.ylabel('Max Depth')\n",
    "plt.title('Variation of accuracies with CCP Alpha and Max Depth for train data')\n",
    "plt.show()\n",
    "\n",
    "\n",
    "\n",
    "\n",
    "z = np.array(val_accuracy_grid)\n",
    "z_grid = z.reshape(len(np.unique(y)), len(np.unique(x)))\n",
    "# Create a heatmap\n",
    "plt.figure(figsize=(10, 8))\n",
    "plt.imshow(z_grid, cmap='viridis', extent=[min(x), max(x), min(y), max(y)],\n",
    "           aspect='auto', origin='lower')\n",
    "plt.colorbar(label='Accuracies')\n",
    "plt.xlabel('CCP Alpha')\n",
    "plt.ylabel('Max Depth')\n",
    "plt.title('Variation of accuracies with CCP Alpha and Max Depth for val data')\n",
    "plt.show()\n",
    "\n",
    "\n",
    "\n",
    "z = np.array(test_accuracy_grid)\n",
    "z_grid = z.reshape(len(np.unique(y)), len(np.unique(x)))\n",
    "\n",
    "# Create a heatmap\n",
    "plt.figure(figsize=(10, 8))\n",
    "plt.imshow(z_grid, cmap='viridis', extent=[min(x), max(x), min(y), max(y)],\n",
    "           aspect='auto', origin='lower')\n",
    "plt.colorbar(label='Accuracies')\n",
    "plt.xlabel('CCP Alpha')\n",
    "plt.ylabel('Max Depth')\n",
    "plt.title('Variation of accuracies with CCP Alpha and Max Depth for test data')\n",
    "plt.show()"
   ]
  },
  {
   "cell_type": "markdown",
   "metadata": {},
   "source": [
    "## RANDOM FOREST CODE GOES HERE"
   ]
  },
  {
   "cell_type": "code",
   "execution_count": null,
   "metadata": {},
   "outputs": [],
   "source": []
  }
 ],
 "metadata": {
  "kernelspec": {
   "display_name": "733",
   "language": "python",
   "name": "python3"
  },
  "language_info": {
   "codemirror_mode": {
    "name": "ipython",
    "version": 3
   },
   "file_extension": ".py",
   "mimetype": "text/x-python",
   "name": "python",
   "nbconvert_exporter": "python",
   "pygments_lexer": "ipython3",
   "version": "3.1.0"
  },
  "orig_nbformat": 4
 },
 "nbformat": 4,
 "nbformat_minor": 2
}
