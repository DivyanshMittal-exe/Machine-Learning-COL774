{
 "cells": [
  {
   "cell_type": "code",
   "execution_count": 1,
   "metadata": {},
   "outputs": [
    {
     "name": "stdout",
     "output_type": "stream",
     "text": [
      "B._a()\n",
      "A.a()\n"
     ]
    }
   ],
   "source": [
    "from abc import ABC, abstractmethod\n",
    "\n",
    "class A(ABC):\n",
    "    def a(self):\n",
    "        self._a()\n",
    "        print(\"A.a()\")\n",
    "    \n",
    "    @abstractmethod\n",
    "    def _a(self):\n",
    "        pass\n",
    "    \n",
    "class B(A):\n",
    "    def _a(self):\n",
    "        print(\"B._a()\")\n",
    "        \n",
    "b = B()\n",
    "b.a()\n",
    "        "
   ]
  }
 ],
 "metadata": {
  "kernelspec": {
   "display_name": "733",
   "language": "python",
   "name": "python3"
  },
  "language_info": {
   "codemirror_mode": {
    "name": "ipython",
    "version": 3
   },
   "file_extension": ".py",
   "mimetype": "text/x-python",
   "name": "python",
   "nbconvert_exporter": "python",
   "pygments_lexer": "ipython3",
   "version": "3.11.5"
  }
 },
 "nbformat": 4,
 "nbformat_minor": 2
}
